{
 "cells": [
  {
   "cell_type": "markdown",
   "metadata": {},
   "source": [
    " Aula 16/02/2024 - comandos de saida (print)/ Tipos de dado(string, int, float, bool)/ Operações Arimétricas"
   ]
  },
  {
   "cell_type": "code",
   "execution_count": 22,
   "metadata": {},
   "outputs": [
    {
     "name": "stdout",
     "output_type": "stream",
     "text": [
      "o gabriel é sus\n",
      "123\n"
     ]
    }
   ],
   "source": [
    "#print serve para mostra algum caracter na tela\n",
    "print(\"o gabriel é sus\")\n",
    "#se digitar shift + alt + seta para baixo copia.\n",
    "#se for numero não precisa de aspas\n",
    "print(123)\n",
    "#se colocar o sinal de + e os numeros sem aspas o computador faz os calculos\n",
    "#se colocar - é subtração\n",
    "#se colocar * é multiplicação\n",
    "#se colocar % é resto da fração\n",
    "#se colocar aspas no numero e o sinal de uma operação não ira fazer o calculo e sim string]\n",
    "#se colocar ** faz expoente\n",
    "#parenteses define a maior ordem de precedência"
   ]
  },
  {
   "cell_type": "markdown",
   "metadata": {},
   "source": [
    "Aula 22/02/2024 - comandos de entrada (input)/ variáveis/ pseudocódigo"
   ]
  },
  {
   "cell_type": "code",
   "execution_count": null,
   "metadata": {},
   "outputs": [],
   "source": []
  },
  {
   "cell_type": "code",
   "execution_count": 23,
   "metadata": {},
   "outputs": [
    {
     "name": "stdout",
     "output_type": "stream",
     "text": [
      "desenvolvimento de sistemas\n",
      "desenvolvimento de sistemas\n",
      "curso desenvolvimento de sistemas\n",
      "ola Ricardo você esta com 36 anos e hoje esta fazendo 23.5 ºC\n",
      "ola Ricardo, você esta com 36, anos e hoje esta fazendo 23.5\n",
      "seu nome é 10, sua idade é 10, e seu peso é 10.0\n",
      "<class 'str'> <class 'int'> <class 'float'>\n"
     ]
    }
   ],
   "source": [
    "#Declarando minha variável\n",
    "#lemos da seguinte forma\n",
    "#variável curso recebe(=) a string \"desenvolvimento de sistemas\"\n",
    "curso = \"desenvolvimento de sistemas\"\n",
    "print(\"desenvolvimento de sistemas\")\n",
    "print(curso) #para inprimir(print) uma variável(não se coloca \"\")\n",
    "print(\"curso\", curso)#a virgula separa informações\n",
    "idade = 36\n",
    "temperatura = 23.5\n",
    "Nome = 'Ricardo'\n",
    "print('ola', Nome, 'você esta com', idade, 'anos e hoje esta fazendo', temperatura,'ºC')# a virgula esta como separação pois não esta entre ''\n",
    "print(f'ola {Nome}, você esta com {idade}, anos e hoje esta fazendo {temperatura}') # aqui nao precisa de virgula por causa do f e chaves\n",
    "#declarando vaiáveis logicas(boolean), recebe apenas true ou false\n",
    "chovendo = True \n",
    "dia = False\n",
    "#declarando uma constante, diferentemente da variável que pode alterar o valor, na constante não é permitido, declaramos o nome toda maiuscula.\n",
    "\n",
    "#passo 1: receber nome\n",
    "#passo 2: receber idade\n",
    "#passo 3: receber peso\n",
    "#passo 4: exibir nome idade peso da pessoa\n",
    "idade =int(input('qual sua idade ?'))#int serve para transformar de string para int(numeros inteiros)\n",
    "peso =float(input('qual seu peso ?'))#float serve para transformar de string para float(numeros reais)\n",
    "nome = input('qual seu nome?')\n",
    "print(f'seu nome é {nome}, sua idade é {idade}, e seu peso é {peso}')\n",
    "#exibindo tipo de variável\n",
    "#tudo o que recebemos input é do tipo string\n",
    "print(type(nome), type(idade), type(peso))"
   ]
  },
  {
   "cell_type": "markdown",
   "metadata": {},
   "source": [
    "23/02/2024 - Operações com variáveis"
   ]
  },
  {
   "cell_type": "code",
   "execution_count": 24,
   "metadata": {},
   "outputs": [
    {
     "name": "stdout",
     "output_type": "stream",
     "text": [
      "20.0\n"
     ]
    }
   ],
   "source": [
    "#receber o primeiro numero\n",
    "#receber o segundo numero\n",
    "#somar os dois numeros\n",
    "#exibir o resultado\n",
    "\n",
    "numero1 = float(input(\"digite o primeiro numero\"))\n",
    "numero2 = float(input(\"digite o segundo numero\"))\n",
    "soma = numero1 + numero2\n",
    "print(soma)\n"
   ]
  },
  {
   "cell_type": "code",
   "execution_count": 25,
   "metadata": {},
   "outputs": [
    {
     "name": "stdout",
     "output_type": "stream",
     "text": [
      "1.0\n"
     ]
    }
   ],
   "source": [
    "numero1 = float(input(\"qual seu numero?\"))\n",
    "numero2 = float(input(\"qual seu numero ?\"))\n",
    "\n",
    "soma = numero1 * numero2\n",
    "\n",
    "print(soma)"
   ]
  },
  {
   "cell_type": "code",
   "execution_count": 26,
   "metadata": {},
   "outputs": [
    {
     "name": "stdout",
     "output_type": "stream",
     "text": [
      "800.0\n"
     ]
    }
   ],
   "source": [
    "preco1 = float(1000)\n",
    "preco2 = float(100)\n",
    "preco1 = preco1 - preco2\n",
    "print(preco1- preco2)\n"
   ]
  },
  {
   "cell_type": "code",
   "execution_count": 27,
   "metadata": {},
   "outputs": [
    {
     "name": "stdout",
     "output_type": "stream",
     "text": [
      "12000\n"
     ]
    }
   ],
   "source": [
    "hora = 8\n",
    "dia = 15\n",
    "preco = 100\n",
    "hora = hora * dia\n",
    "resultado = hora * preco\n",
    "print(resultado)"
   ]
  },
  {
   "cell_type": "markdown",
   "metadata": {},
   "source": [
    "24/02/2024 - Operadores relacionaiis e estrutura condicional."
   ]
  },
  {
   "cell_type": "code",
   "execution_count": 28,
   "metadata": {},
   "outputs": [
    {
     "name": "stdout",
     "output_type": "stream",
     "text": [
      "False\n",
      "False\n",
      "True\n",
      "True\n"
     ]
    }
   ],
   "source": [
    "a = 2\n",
    "b = 3\n",
    "print(a > b)\n",
    "print(a == b)\n",
    "print(a != b)\n",
    "print(a >= 2)\n",
    "\n"
   ]
  },
  {
   "cell_type": "code",
   "execution_count": 29,
   "metadata": {},
   "outputs": [
    {
     "name": "stdout",
     "output_type": "stream",
     "text": [
      "posso entrar\n",
      "fim\n"
     ]
    }
   ],
   "source": [
    "trenho_ingresso = True\n",
    "if trenho_ingresso == True:\n",
    " print(\"posso entrar\")   \n",
    "print(\"fim\") "
   ]
  },
  {
   "cell_type": "code",
   "execution_count": 3,
   "metadata": {},
   "outputs": [
    {
     "name": "stdout",
     "output_type": "stream",
     "text": [
      "maior idade\n",
      "fim\n"
     ]
    }
   ],
   "source": [
    "#paso um receber o valor da idade \n",
    "idade=int(input(\"qual a idade \"))\n",
    "#paso dois verificar se é maior ou menor do que  18 \n",
    "if idade>=18:\n",
    "#passo tres se for, se for maior de idade \n",
    "    print(\"maior idade\")\n",
    "print(\"fim\")"
   ]
  },
  {
   "cell_type": "code",
   "execution_count": null,
   "metadata": {},
   "outputs": [
    {
     "name": "stdout",
     "output_type": "stream",
     "text": [
      "poso entrar\n",
      "fim\n"
     ]
    }
   ],
   "source": [
    "trenho_ingresso=True\n",
    "if trenho_ingresso== True : \n",
    "    print(\"posso entrar\")\n",
    "else : \n",
    "    print(\"não pode entrar\") \n",
    "print(\"fim\")"
   ]
  },
  {
   "cell_type": "markdown",
   "metadata": {},
   "source": [
    "01/03/2024 - operadores logicos e estrutura condicional"
   ]
  },
  {
   "cell_type": "code",
   "execution_count": null,
   "metadata": {},
   "outputs": [
    {
     "name": "stdout",
     "output_type": "stream",
     "text": [
      "False\n",
      "False\n",
      "True\n",
      "True\n"
     ]
    }
   ],
   "source": [
    "a =2\n",
    "b =3\n",
    "c =5\n",
    "print((a>2)and(b<2))\n",
    "print((a>2)or(b<2))\n",
    "print((a>2)or(b<5))\n",
    "\n",
    "idade = 18\n",
    "print(idade>18 or idade == 18)"
   ]
  },
  {
   "cell_type": "code",
   "execution_count": null,
   "metadata": {},
   "outputs": [
    {
     "name": "stdout",
     "output_type": "stream",
     "text": [
      "sobre peso\n"
     ]
    }
   ],
   "source": [
    "altura = float(input(\"digite seu altura\"))\n",
    "peso = float(input(\"digite seu peso\"))\n",
    "imc = peso/ (altura**2)\n",
    "if imc <= 18.5:\n",
    "    print(\"baixo do peso\")\n",
    "elif imc >=18.6 and imc <=24.9:\n",
    "    print (\"peso ideal\")\n",
    "elif imc >= 25 and imc <=29.9 :\n",
    "    print(\"sobre peso\")\n",
    "else :\n",
    "   print(\"obesidade\")"
   ]
  },
  {
   "cell_type": "code",
   "execution_count": null,
   "metadata": {},
   "outputs": [
    {
     "name": "stdout",
     "output_type": "stream",
     "text": [
      "triangulo equilatero\n"
     ]
    }
   ],
   "source": [
    "lado1 = float(input(\"digite o primeiro numero\"))\n",
    "lado2 = float(input(\"digiteo segundo numero\"))\n",
    "lado3 = float(input(\"digiteo terceiro numero\"))\n",
    "\n",
    "if lado1 == lado2 == lado3 :\n",
    " print(\"triangulo equilatero\")\n",
    "elif lado1 != lado2 and lado2 != lado3 and lado1 != lado3 :\n",
    " print(\"triangulo esqualeno\")\n",
    "else :\n",
    " print(\"triangulo isóceles\")"
   ]
  },
  {
   "cell_type": "code",
   "execution_count": null,
   "metadata": {},
   "outputs": [
    {
     "name": "stdout",
     "output_type": "stream",
     "text": [
      "não é vogal\n"
     ]
    }
   ],
   "source": [
    "letra = (input(\"digite uma letra\"))\n",
    "if letra == ('a' or 'e' or 'i' or 'o' or 'u') :\n",
    "    print ('é uma vogal')\n",
    "elif letra == '1' or letra == '2' or letra == '3':\n",
    " print (\"a letra é um numero\")\n",
    "else :\n",
    "    print('não é vogal')"
   ]
  },
  {
   "cell_type": "markdown",
   "metadata": {},
   "source": [
    "07/03/2024 - Estrutura condicional aninhada / matck case"
   ]
  },
  {
   "cell_type": "code",
   "execution_count": null,
   "metadata": {},
   "outputs": [],
   "source": [
    "idade = int(input('digite sua idade'))\n",
    "if idade >= 18 and idade <= 70:\n",
    "    print ('Você é obrigado a votar')\n",
    "else:\n",
    "    if idade <16:\n",
    "        print('não pode votar')\n"
   ]
  },
  {
   "cell_type": "code",
   "execution_count": null,
   "metadata": {},
   "outputs": [
    {
     "name": "stdout",
     "output_type": "stream",
     "text": [
      "seu voto é facultativo\n"
     ]
    }
   ],
   "source": [
    "idade = int(input('digite sua idade'))\n",
    "if idade >= 18 and idade <= 70:\n",
    "    print ('Você é obrigado a votar')\n",
    "else:\n",
    "    if idade <16:\n",
    "        print('não pode votar')\n",
    "    else:\n",
    "        if idade >= 16 or idade >70:\n",
    "    \n",
    "             print('seu voto é facultativo')"
   ]
  },
  {
   "cell_type": "code",
   "execution_count": null,
   "metadata": {},
   "outputs": [
    {
     "name": "stdout",
     "output_type": "stream",
     "text": [
      "1 - 1 = 0\n"
     ]
    }
   ],
   "source": [
    "vr1 = int(input('digite um numero'))\n",
    "vr2 = int(input('digite um numero'))\n",
    "operador = input('digite uma operação+-*/**')\n",
    "match operador:\n",
    "    case '+': \n",
    "        print(f'{vr1} + {vr2} = {vr1 + vr2}')\n",
    "    case '-': \n",
    "        print(f'{vr1} - {vr2} = {vr1 - vr2}')\n",
    "    case '*': \n",
    "        print(f'{vr1} * {vr2} = {vr1 * vr2}')\n",
    "    case '/': \n",
    "        print(f'{vr1} / {vr2} = {vr1 / vr2}')\n",
    "    case '**': \n",
    "        print(f'{vr1} ** {vr2} = {vr1 ** vr2}')"
   ]
  },
  {
   "cell_type": "code",
   "execution_count": null,
   "metadata": {},
   "outputs": [
    {
     "name": "stdout",
     "output_type": "stream",
     "text": [
      "1 - 2 = -1\n"
     ]
    }
   ],
   "source": [
    "vr1 = int(input('digite um numero'))\n",
    "vr2 = int(input('digite um numero'))\n",
    "operador = input('digite uma operação+-*/**')\n",
    "match operador:\n",
    "    case '+': \n",
    "        print(f'{vr1} + {vr2} = {vr1 + vr2}')\n",
    "    case '-': \n",
    "        print(f'{vr1} - {vr2} = {vr1 - vr2}')\n",
    "    case '*': \n",
    "        print(f'{vr1} * {vr2} = {vr1 * vr2}')\n",
    "    case '/': \n",
    "        print(f'{vr1} / {vr2} = {vr1 / vr2}')\n",
    "    case '**': \n",
    "        print(f'{vr1} ** {vr2} = {vr1 ** vr2}')"
   ]
  },
  {
   "cell_type": "markdown",
   "metadata": {},
   "source": [
    "08/02/2024-Laço de repetiçao-While"
   ]
  },
  {
   "cell_type": "code",
   "execution_count": 64,
   "metadata": {},
   "outputs": [
    {
     "name": "stdout",
     "output_type": "stream",
     "text": [
      "10\n",
      "9\n",
      "8\n",
      "7\n",
      "6\n",
      "5\n",
      "4\n",
      "3\n",
      "2\n",
      "1\n",
      "0\n",
      "feliz ano novo\n"
     ]
    }
   ],
   "source": [
    "import time #importando uma biblioteca de tempo\n",
    "x = 10\n",
    "while x >= 0 :\n",
    "    print(x)\n",
    "    time.sleep(0.5)#dando uma pausa de 1s na execução\n",
    "    x = x - 1\n",
    "print ('feliz ano novo')"
   ]
  },
  {
   "cell_type": "code",
   "execution_count": null,
   "metadata": {},
   "outputs": [],
   "source": [
    "texto = input('digite seu nome(sair para terminar):')\n",
    "while texto != 'sair':\n",
    "    print(f'seja bem vindo, {texto}')\n",
    "    break"
   ]
  },
  {
   "cell_type": "code",
   "execution_count": null,
   "metadata": {},
   "outputs": [
    {
     "name": "stdout",
     "output_type": "stream",
     "text": [
      "você hackeou a rede\n",
      "FIM\n"
     ]
    }
   ],
   "source": [
    "senha_senai ='12345'\n",
    "nr_tentativa = 0\n",
    "while True : \n",
    "    senha = input('qual é a senha? \"desisto\" para sair')\n",
    "    if senha == senha_senai :\n",
    "        print('você hackeou a rede')\n",
    "        break #serve para pausar para parar o while\n",
    "    elif senha_senai == 'desisto':\n",
    "        break\n",
    "    else:\n",
    "        nr_tentativa = nr_tentativa + 1\n",
    "        if nr_tentativa == 3 :\n",
    "            print('voce ta preso bandido. ')\n",
    "            break\n",
    "print('FIM')"
   ]
  },
  {
   "cell_type": "markdown",
   "metadata": {},
   "source": [
    "21/03/2024 - Revisão while"
   ]
  },
  {
   "cell_type": "code",
   "execution_count": null,
   "metadata": {},
   "outputs": [
    {
     "name": "stdout",
     "output_type": "stream",
     "text": [
      "fim\n"
     ]
    }
   ],
   "source": [
    "resp = 's'\n",
    "while resp == 's' :\n",
    " resp = input ('deseja continuar ? [s ou n]')\n",
    "print('fim')\n"
   ]
  },
  {
   "cell_type": "code",
   "execution_count": 38,
   "metadata": {},
   "outputs": [
    {
     "name": "stdout",
     "output_type": "stream",
     "text": [
      "0\n"
     ]
    }
   ],
   "source": [
    "soma = 0\n",
    "while True :\n",
    "    valor = float(input('digite o valor do produto'))\n",
    "    if valor == -1 :\n",
    "        break\n",
    "    soma = valor + soma\n",
    "print(soma)"
   ]
  },
  {
   "cell_type": "code",
   "execution_count": 58,
   "metadata": {},
   "outputs": [
    {
     "name": "stdout",
     "output_type": "stream",
     "text": [
      "4\n"
     ]
    }
   ],
   "source": [
    "import random#random serve para gerar um numero aleatório\n",
    "nrsorteio = random.randint(1,100)# o randint serve para gerar um numero inteiro\n",
    "print(nrsorteio)"
   ]
  },
  {
   "cell_type": "code",
   "execution_count": 1,
   "metadata": {},
   "outputs": [
    {
     "name": "stdout",
     "output_type": "stream",
     "text": [
      "jogo de adivinhação\n",
      "25\n",
      "tente um numero maior\n",
      "tente um numero menor\n",
      "Você acertou\n"
     ]
    }
   ],
   "source": [
    "import random\n",
    "nrsorteio = random.randint(1,100)\n",
    "print('jogo de adivinhação')\n",
    "print(nrsorteio)\n",
    "acertou = False\n",
    "while acertou == False:\n",
    "       chute = int (input('digite um numero entre 1 e 100'))\n",
    "       if chute == nrsorteio:\n",
    "            print('Você acertou')\n",
    "            acertou = True\n",
    "       elif chute > nrsorteio :\n",
    "            print ('tente um numero menor')\n",
    "       else:\n",
    "            print('tente um numero maior')"
   ]
  },
  {
   "cell_type": "code",
   "execution_count": 7,
   "metadata": {},
   "outputs": [
    {
     "name": "stdout",
     "output_type": "stream",
     "text": [
      "pegar o not\n",
      "pegar o mouse\n",
      "levar para arthur\n",
      "não levar nada\n",
      "não levar nada\n",
      "não levar nada\n",
      "não levar nada\n",
      "não levar nada\n",
      "não levar nada\n",
      "não levar nada\n",
      "não levar nada\n"
     ]
    }
   ],
   "source": [
    "for nr in range (3) :#for e while é a mesma coisa só que o for é mais simplificado\n",
    "    nr = nr+1#ou nr+=1\n",
    "    nome = input(f'quem é o numero {nr}')\n",
    "    pesso = input(f'a/o {nome}veio para a escola hj ?')\n",
    "    if pesso == 's' :\n",
    "        print('pegar o not')\n",
    "        print('pegar o mouse')\n",
    "        print(f'levar para {nome}')\n",
    "    else:\n",
    "        print('não levar nada')\n",
    "print('começar aula')"
   ]
  },
  {
   "cell_type": "code",
   "execution_count": 6,
   "metadata": {},
   "outputs": [
    {
     "name": "stdout",
     "output_type": "stream",
     "text": [
      "7 x 0 = 0\n",
      "7 x 1 = 7\n",
      "7 x 2 = 14\n",
      "7 x 3 = 21\n",
      "7 x 4 = 28\n",
      "7 x 5 = 35\n",
      "7 x 6 = 42\n",
      "7 x 7 = 49\n",
      "7 x 8 = 56\n",
      "7 x 9 = 63\n",
      "7 x 10 = 70\n"
     ]
    }
   ],
   "source": [
    "n = int(input('digite um numero'))\n",
    "for x in range (11):\n",
    "    print(f'{n} x {x} = {n*x}')"
   ]
  },
  {
   "cell_type": "code",
   "execution_count": 76,
   "metadata": {},
   "outputs": [
    {
     "name": "stdout",
     "output_type": "stream",
     "text": [
      "s\n",
      "e\n",
      "s\n",
      "i\n",
      "/\n",
      "s\n",
      "e\n",
      "n\n",
      "a\n",
      "i\n",
      "fim\n"
     ]
    }
   ],
   "source": [
    "for letra in 'sesi/senai':\n",
    "    print(letra)\n",
    "print('fim')"
   ]
  },
  {
   "cell_type": "code",
   "execution_count": 10,
   "metadata": {},
   "outputs": [
    {
     "name": "stdout",
     "output_type": "stream",
     "text": [
      "5\n",
      "7\n",
      "9\n",
      "11\n",
      "13\n",
      "15\n",
      "17\n",
      "19\n",
      "21\n",
      "23\n",
      "25\n",
      "27\n",
      "29\n"
     ]
    }
   ],
   "source": [
    "for x in range (5,30,2):# o 5 começa o 30 é o numero que tem que ir e o 2 é a pulação\n",
    "    print(x)"
   ]
  },
  {
   "cell_type": "code",
   "execution_count": 22,
   "metadata": {},
   "outputs": [
    {
     "name": "stdout",
     "output_type": "stream",
     "text": [
      "banana\n",
      "['mario', 'mario', 'caua', 'mariana', 'caua']\n",
      "mario\n",
      "['mario', 'mario', 'mariana']\n",
      "['mario', 'mariana']\n",
      "3\n",
      "mariana\n"
     ]
    }
   ],
   "source": [
    "frutas = ['marça','banana', 'uva']\n",
    "print(frutas [1])\n",
    "\n",
    "lista = [] #conchetes é a condição\n",
    "\n",
    "nomes = ['ana', 'mario', 'mariana']# aqui é mais de um dado em uma variavel\n",
    "listamista = [1, 'true', True , 3.5]\n",
    "\n",
    "nomes[0] = 'mario'# altera a variavel na posição\n",
    "nomes.append('caua')#adiciona mais coisa na variavel\n",
    "nomes.insert(2,'caua')#adiciona mais uma coisa na variavel na posição\n",
    "print (nomes)\n",
    "\n",
    "del nomes[2]#remove na posição\n",
    "nomes.remove('caua')#remove o que esta escrito caua\n",
    "\n",
    "print (nomes[1])#aparece em uma posição especifica\n",
    "print (nomes[0:4])#a partir do zero pegar 4 itens\n",
    "print (nomes[1:])#da posição 1 ate todos\n",
    "print (len(nomes))#total de itens na lista\n",
    "print (nomes[-1])#aparece em uma posição a menos\n",
    "\n",
    "nomes.sort()#ordem crescente\n",
    "nomes.reverse()#ordem decrescente\n"
   ]
  },
  {
   "cell_type": "code",
   "execution_count": 75,
   "metadata": {},
   "outputs": [
    {
     "name": "stdout",
     "output_type": "stream",
     "text": [
      "é uma consoante a palavra f\n"
     ]
    }
   ],
   "source": [
    "vogais = ['a', 'e', 'i', 'o', 'u']\n",
    "carac = ['', '!', '@', '#', '$', '%', '¨', '&', '*', '(',')','()', '-', '_', '=', '+' ]\n",
    "num = ['0','1','2','3','4','5','6','7','8','9']\n",
    "cons = ['b', 'c', 'd', 'f', 'g', 'h', 'j', 'k', 'l','m', 'n', 'p','q','r','s','t','v','w','x','y','z']\n",
    "recebendo = input('informe um caracter')\n",
    "if recebendo.lower() in vogais:\n",
    "    print(f'é uma vogal a palavra {recebendo}')\n",
    "elif recebendo.lower() in cons:\n",
    "    print(f'é uma consoante a palavra {recebendo}')\n",
    "elif recebendo.lower() in carac:\n",
    "    print(f'o que {recebendo} é um caracter especial')\n",
    "elif recebendo.lower() in num:\n",
    "    print(f'o {recebendo} é um numero')\n",
    "else:\n",
    "    print(f'Não é uma vogal e nem uma consoante a palavra {recebendo}')\n",
    "    #.lower() deixa as letras em minusculo\n",
    "    #.upper() deixa as letras em maiusculo"
   ]
  },
  {
   "cell_type": "code",
   "execution_count": 81,
   "metadata": {},
   "outputs": [
    {
     "name": "stdout",
     "output_type": "stream",
     "text": [
      "pele\n",
      "maradona\n",
      "messi\n",
      "cristiano ronaldo\n"
     ]
    }
   ],
   "source": [
    "import time\n",
    "listanomes = ['pele','maradona', 'messi', 'cristiano ronaldo']\n",
    "for nome in listanomes:\n",
    "    time.sleep(0.5)\n",
    "    print(nome)"
   ]
  },
  {
   "cell_type": "code",
   "execution_count": 90,
   "metadata": {},
   "outputs": [
    {
     "name": "stdout",
     "output_type": "stream",
     "text": [
      "26\n",
      "26\n",
      "A fruta maça está na posição 0\n",
      "A fruta banana está na posição 1\n",
      "A fruta abacaxi está na posição 2\n",
      "A fruta uva está na posição 3\n"
     ]
    }
   ],
   "source": [
    "list = [4,6,2,5,9]\n",
    "soma = 0\n",
    "for nr in list:\n",
    "    soma= soma +nr\n",
    "print(soma)\n",
    "\n",
    "soma = sum(list)\n",
    "print (soma)\n",
    "\n",
    "listafruta = ['maça', 'banana', 'abacaxi', 'uva']\n",
    "for pos,fruta in enumerate (listafruta):\n",
    "    print(f'A fruta {fruta} está na posição {pos}')"
   ]
  },
  {
   "cell_type": "code",
   "execution_count": 92,
   "metadata": {},
   "outputs": [
    {
     "name": "stdout",
     "output_type": "stream",
     "text": [
      "celular\n",
      "notebook\n",
      "Video\n"
     ]
    }
   ],
   "source": [
    "produtos = 'celular,notebook,Video'\n",
    "lista = produtos.split(',')\n",
    "for produto in lista:\n",
    "    print(produto)"
   ]
  },
  {
   "cell_type": "code",
   "execution_count": 6,
   "metadata": {},
   "outputs": [
    {
     "name": "stdout",
     "output_type": "stream",
     "text": [
      "1 pizza\n",
      "2 pizza\n"
     ]
    }
   ],
   "source": [
    "listacomidas = []\n",
    "while True :\n",
    "    comidas = input('digite uma comida que você mais gosta')\n",
    "    deseja = input ('deseja continuar? n para sair')\n",
    "    listacomidas.append(comidas)#append adiciona uma coisa no final da lista.\n",
    "    if deseja == 'N' or deseja == 'n':\n",
    "        break\n",
    "for pos, comida in enumerate(listacomidas):\n",
    "   print(f'{pos +1} {comida}')\n"
   ]
  },
  {
   "cell_type": "code",
   "execution_count": 2,
   "metadata": {},
   "outputs": [
    {
     "name": "stdout",
     "output_type": "stream",
     "text": [
      "--------------------\n",
      "SESI/SENAI\n",
      "--------------------\n"
     ]
    }
   ],
   "source": [
    "print('-'*20)\n",
    "print('SESI/SENAI')\n",
    "print('-'*20)"
   ]
  },
  {
   "cell_type": "code",
   "execution_count": 8,
   "metadata": {},
   "outputs": [
    {
     "name": "stdout",
     "output_type": "stream",
     "text": [
      "--------------------\n",
      "SESI/SENAI\n",
      "--------------------\n"
     ]
    }
   ],
   "source": [
    "def linha():\n",
    "    print('-'*20)\n",
    "linha()\n",
    "print('SESI/SENAI')\n",
    "linha()"
   ]
  },
  {
   "cell_type": "code",
   "execution_count": 16,
   "metadata": {},
   "outputs": [
    {
     "name": "stdout",
     "output_type": "stream",
     "text": [
      "ricardo tenha um bom dia\n",
      "ricardo tenha um bom dia\n",
      "ricardo tenha um bom dia\n"
     ]
    }
   ],
   "source": [
    "def saudação() :\n",
    "   nome =  input('qual seu nome?')\n",
    "   print(f'{nome} tenha um bom dia')\n",
    "saudação()\n",
    "saudação()\n",
    "saudação()\n",
    "\n",
    "\n",
    "\n",
    "\n",
    "\n"
   ]
  },
  {
   "cell_type": "code",
   "execution_count": 18,
   "metadata": {},
   "outputs": [
    {
     "name": "stdout",
     "output_type": "stream",
     "text": [
      "--------------------\n",
      "sesi\n",
      "--------------------\n",
      "--------------------\n",
      "senai\n",
      "--------------------\n",
      "--------------------\n",
      "escola\n",
      "--------------------\n"
     ]
    }
   ],
   "source": [
    "def cabecalho(texto):\n",
    "    linha()\n",
    "    print(texto)\n",
    "    linha()\n",
    "cabecalho('sesi')\n",
    "cabecalho('senai')\n",
    "cabecalho('escola')"
   ]
  },
  {
   "cell_type": "code",
   "execution_count": 23,
   "metadata": {},
   "outputs": [
    {
     "name": "stdout",
     "output_type": "stream",
     "text": [
      "a soma de 10 + 5 e 15\n"
     ]
    }
   ],
   "source": [
    "def soma(n1, n2):\n",
    "    res = n1 + n2\n",
    "    print(f'a soma de {n1} + {n2} e {res}')\n",
    "soma(10, 5)"
   ]
  },
  {
   "cell_type": "code",
   "execution_count": 37,
   "metadata": {},
   "outputs": [
    {
     "name": "stdout",
     "output_type": "stream",
     "text": [
      "o numero 11.0 é impar\n",
      "o numero 10.0 é par\n",
      "----------------------------------------\n",
      "----------------------------------------\n",
      "o numero 10.0 é par\n",
      "o numero 9.0 é impar\n"
     ]
    }
   ],
   "source": [
    "def parimpar(n1,n2) :\n",
    "    if n1 % 2 ==0 :\n",
    "        print (f'o numero {n1} é par')\n",
    "    else :\n",
    "        print (f'o numero {n1} é impar')\n",
    "    if n2 % 2 ==0 :\n",
    "        print (f'o numero {n2} é par')\n",
    "    else :\n",
    "        print (f'o numero {n2} é impar')\n",
    "n1 = float(input('digite um numero'))\n",
    "n2 = float(input('digite um numero'))\n",
    "parimpar(n1,n2)\n",
    "print('--'*20)\n",
    "print('--'*20)\n",
    "n1 = float(input('digite um numero'))\n",
    "n2 = float(input('digite um numero'))\n",
    "parimpar(n1,n2)"
   ]
  },
  {
   "cell_type": "code",
   "execution_count": 42,
   "metadata": {},
   "outputs": [
    {
     "data": {
      "text/plain": [
       "9.0"
      ]
     },
     "execution_count": 42,
     "metadata": {},
     "output_type": "execute_result"
    }
   ],
   "source": [
    "def media (n1,n2):\n",
    "    res = (n1+n2)/2\n",
    "    return(res)\n",
    "media(10,8)"
   ]
  },
  {
   "cell_type": "code",
   "execution_count": 47,
   "metadata": {},
   "outputs": [
    {
     "name": "stdout",
     "output_type": "stream",
     "text": [
      "VocÊ nasceu em 25/12/1987\n"
     ]
    }
   ],
   "source": [
    "def formatardata (n1,n2,n3) :\n",
    "    return(f'{n1}/{n2}/{n3}')\n",
    "\n",
    "\n",
    "print('VocÊ nasceu em', formatardata(25,12,1987))\n",
    "\n"
   ]
  },
  {
   "cell_type": "markdown",
   "metadata": {},
   "source": [
    "12/04/2024-escopo de variavel"
   ]
  },
  {
   "cell_type": "code",
   "execution_count": 7,
   "metadata": {},
   "outputs": [
    {
     "name": "stdout",
     "output_type": "stream",
     "text": [
      "SESI\n"
     ]
    }
   ],
   "source": [
    "def NomeEscola():\n",
    "    escola ='SESI'\n",
    "    print(escola)\n",
    "NomeEscola()"
   ]
  },
  {
   "cell_type": "code",
   "execution_count": 5,
   "metadata": {},
   "outputs": [
    {
     "name": "stdout",
     "output_type": "stream",
     "text": [
      "sesi\n",
      "senai\n",
      "sesi\n"
     ]
    }
   ],
   "source": [
    "def nomeescola():\n",
    "    global escola\n",
    "    escola = 'sesi'\n",
    "    print(escola)\n",
    "print(escola)\n",
    "\n",
    "escola = 'senai'\n",
    "print(escola)\n",
    "nomeescola()"
   ]
  },
  {
   "cell_type": "code",
   "execution_count": null,
   "metadata": {},
   "outputs": [],
   "source": []
  },
  {
   "cell_type": "code",
   "execution_count": 10,
   "metadata": {},
   "outputs": [
    {
     "name": "stdout",
     "output_type": "stream",
     "text": [
      "10\n",
      "11\n",
      "12\n"
     ]
    }
   ],
   "source": [
    "x = 10\n",
    "print(x)\n",
    "def minhafuncao():\n",
    "    global x\n",
    "    x = x+1\n",
    "    print(x)\n",
    "\n",
    "minhafuncao()\n",
    "x = x+1\n",
    "print(x)"
   ]
  }
 ],
 "metadata": {
  "kernelspec": {
   "display_name": "Python 3",
   "language": "python",
   "name": "python3"
  },
  "language_info": {
   "codemirror_mode": {
    "name": "ipython",
    "version": 3
   },
   "file_extension": ".py",
   "mimetype": "text/x-python",
   "name": "python",
   "nbconvert_exporter": "python",
   "pygments_lexer": "ipython3",
   "version": "3.12.2"
  }
 },
 "nbformat": 4,
 "nbformat_minor": 2
}
