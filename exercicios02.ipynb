{
 "cells": [
  {
   "cell_type": "code",
   "execution_count": null,
   "metadata": {},
   "outputs": [],
   "source": []
  },
  {
   "cell_type": "code",
   "execution_count": 4,
   "metadata": {},
   "outputs": [
    {
     "name": "stdout",
     "output_type": "stream",
     "text": [
      "aprovado\n"
     ]
    }
   ],
   "source": [
    "nota=float(input(\"qual a sua nota\"))\n",
    "nota2=float(input(\"digite o n\"))\n",
    "media=((nota+ nota2) /2)\n",
    "if  media >= 7 : \n",
    "  print(\"aprovado\")\n",
    "else: \n",
    " print(\"reprovado\")"
   ]
  },
  {
   "cell_type": "markdown",
   "metadata": {},
   "source": [
    "02"
   ]
  },
  {
   "cell_type": "code",
   "execution_count": 8,
   "metadata": {},
   "outputs": [
    {
     "name": "stdout",
     "output_type": "stream",
     "text": [
      "os dois são iguais\n"
     ]
    }
   ],
   "source": [
    "n1 = float(input(\"digite primeiro numero\"))\n",
    "n2 = float(input(\"digite segundo numero\"))\n",
    "if n1 > n2 :\n",
    "    print(\"o primeiro numero é maior que o numero 2\")\n",
    "elif n1 == n2:\n",
    "    print(\"os dois são iguais\")\n",
    "else :\n",
    "    print(\"o primeiro numero é menor que o numero 2\")"
   ]
  },
  {
   "cell_type": "markdown",
   "metadata": {},
   "source": [
    "3"
   ]
  },
  {
   "cell_type": "code",
   "execution_count": 7,
   "metadata": {},
   "outputs": [
    {
     "name": "stdout",
     "output_type": "stream",
     "text": [
      "impar\n"
     ]
    }
   ],
   "source": [
    "n1 = int(input(\"digite o numero\"))\n",
    "if n1 %2 == 0:\n",
    "    print(\"Par\")\n",
    "else:\n",
    "    print(\"impar\")"
   ]
  },
  {
   "cell_type": "markdown",
   "metadata": {},
   "source": [
    "4"
   ]
  },
  {
   "cell_type": "code",
   "execution_count": 8,
   "metadata": {},
   "outputs": [
    {
     "name": "stdout",
     "output_type": "stream",
     "text": [
      "positivo\n"
     ]
    }
   ],
   "source": [
    "n1 = int(input(\"digite o numero\"))\n",
    "if n1 >0 :\n",
    "    print(\"positivo\")\n",
    "else :\n",
    "    print(\"negativo\")"
   ]
  },
  {
   "cell_type": "markdown",
   "metadata": {},
   "source": [
    "5"
   ]
  },
  {
   "cell_type": "code",
   "execution_count": 11,
   "metadata": {},
   "outputs": [
    {
     "name": "stdout",
     "output_type": "stream",
     "text": [
      "maior de idade\n"
     ]
    }
   ],
   "source": [
    "idade = float(input(\"digite seu ano de nascimento\"))\n",
    "idade1 = 2024 - idade\n",
    "if idade1 >= 18 :\n",
    "    print(\"maior de idade\")\n",
    "else:\n",
    "    print(\"menor de idade\")"
   ]
  },
  {
   "cell_type": "markdown",
   "metadata": {},
   "source": [
    "6"
   ]
  },
  {
   "cell_type": "code",
   "execution_count": 11,
   "metadata": {},
   "outputs": [
    {
     "name": "stdout",
     "output_type": "stream",
     "text": [
      "diferentes\n"
     ]
    }
   ],
   "source": [
    "n1 = int(input(\"digite seu numero\"))\n",
    "n2 = int(input(\"digite segundo numero\"))\n",
    "if n1 == n2 :\n",
    "    print(\"iguais\")\n",
    "else:\n",
    "    print('diferentes')"
   ]
  },
  {
   "cell_type": "markdown",
   "metadata": {},
   "source": [
    "7"
   ]
  },
  {
   "cell_type": "code",
   "execution_count": 1,
   "metadata": {},
   "outputs": [
    {
     "name": "stdout",
     "output_type": "stream",
     "text": [
      "mais um pouco e ja vai ta\n"
     ]
    }
   ],
   "source": [
    "velocidade = float(input(\"digite a velocidade\"))\n",
    "if velocidade > 80:\n",
    "    multa = ((velocidade - 80)*7)\n",
    "    print(multa)\n",
    "elif velocidade == 80 :\n",
    "    print(\"mais um pouco e ja vai ta\")\n",
    "else :\n",
    "    print(\"tudo nos conformes\")"
   ]
  }
 ],
 "metadata": {
  "kernelspec": {
   "display_name": "Python 3",
   "language": "python",
   "name": "python3"
  },
  "language_info": {
   "codemirror_mode": {
    "name": "ipython",
    "version": 3
   },
   "file_extension": ".py",
   "mimetype": "text/x-python",
   "name": "python",
   "nbconvert_exporter": "python",
   "pygments_lexer": "ipython3",
   "version": "3.12.2"
  }
 },
 "nbformat": 4,
 "nbformat_minor": 2
}
