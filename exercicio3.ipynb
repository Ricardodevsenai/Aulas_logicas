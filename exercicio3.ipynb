{
 "cells": [
  {
   "cell_type": "code",
   "execution_count": 4,
   "metadata": {},
   "outputs": [],
   "source": [
    "n1 = float(input('digite um numero de 1 a 7'))\n",
    "match n1: \n",
    "    case 1 :\n",
    "        print('Hoje é segunda feira')\n",
    "    case 2 :\n",
    "        print('hoje é terça feira')\n",
    "    case 3 :\n",
    "        print('hoje é quarta feira')\n",
    "    case 4 :\n",
    "        print('hoje é quinta feira')\n",
    "    case 5 :\n",
    "        print('hoje é sexta feira')\n",
    "    case 6 :\n",
    "        print('hoje é sabado')\n",
    "    case 7 :\n",
    "        print('hoje é domingo')"
   ]
  },
  {
   "cell_type": "code",
   "execution_count": 16,
   "metadata": {},
   "outputs": [
    {
     "name": "stdout",
     "output_type": "stream",
     "text": [
      "você é um idoso\n"
     ]
    }
   ],
   "source": [
    "data = float(input('digite seu ano de nascimento'))\n",
    "conta = 2024 - data\n",
    "if conta >=18 and conta <=59:\n",
    "    print('você é um adulto')\n",
    "elif data <=10:\n",
    "    print('você é uma criança')\n",
    "elif data >= 11 and conta <=17:\n",
    "    print('você é um adolescente')\n",
    "else:\n",
    "    print('você é um idoso')"
   ]
  },
  {
   "cell_type": "code",
   "execution_count": 1,
   "metadata": {},
   "outputs": [
    {
     "name": "stdout",
     "output_type": "stream",
     "text": [
      "tem 31 dias\n"
     ]
    }
   ],
   "source": [
    "mes = (input('digite o mês'))\n",
    "match mes.upper():\n",
    "    case 'JANEIRO':\n",
    "     print('tem 31 dias')\n",
    "    case 'FEVEREIRO':\n",
    "     print('tem 28 dias')\n",
    "    case 'MARÇO':\n",
    "     print('tem 31 dias')\n",
    "    case 'ABRIL':\n",
    "     print('tem 30 dias')\n",
    "    case 'MAIO':\n",
    "     print('tem 31 dias')\n",
    "    case 'JUNHO':\n",
    "     print('tem 30 dias')\n",
    "    case 'JULHO':\n",
    "     print('tem 31 dias')\n",
    "    case 'AGOSTO':\n",
    "     print('tem 31 dias')\n",
    "    case 'SETEMBRO':\n",
    "     print('tem 30 dias')\n",
    "    case 'OUTUBRO':\n",
    "     print('tem 31 dias')\n",
    "    case 'NOVEMBRO':\n",
    "     print('tem 30 dias')\n",
    "    case 'DEZEMBRO':\n",
    "     print('tem 31 dias')"
   ]
  },
  {
   "cell_type": "code",
   "execution_count": 17,
   "metadata": {},
   "outputs": [
    {
     "name": "stdout",
     "output_type": "stream",
     "text": [
      "você esta reprovado\n"
     ]
    }
   ],
   "source": [
    "n1 = float(input('digite a nota'))\n",
    "n2 = float(input('digite a nota'))\n",
    "conta = (n1 + n2)/2\n",
    "if conta >7:\n",
    "    print(\"você esta aprovado\")\n",
    "elif conta <=7 and conta >= 5:\n",
    "    print('você esta de recuperação')\n",
    "else:\n",
    "    print('você esta reprovado')"
   ]
  },
  {
   "cell_type": "code",
   "execution_count": 21,
   "metadata": {},
   "outputs": [
    {
     "name": "stdout",
     "output_type": "stream",
     "text": [
      "seu salario é 5398.92\n"
     ]
    }
   ],
   "source": [
    "salario = float(input('digite seu salario'))\n",
    "if salario <= 2000:\n",
    "    conta = salario * 12 / 100\n",
    "    nvsalario = salario + conta\n",
    "    print(f'seu salario é {nvsalario}')\n",
    "elif salario >2000 and salario <= 4000:\n",
    "    conta2 = salario * 10 /100\n",
    "    nvsalario2 = salario + conta2\n",
    "    print(f'seu salario é {nvsalario2}')\n",
    "else:\n",
    "    conta3 = salario *8 / 100\n",
    "    nvsalario3 = salario + conta3\n",
    "    print(f'seu salario é {nvsalario3}')\n",
    "\n",
    "\n"
   ]
  }
 ],
 "metadata": {
  "kernelspec": {
   "display_name": "Python 3",
   "language": "python",
   "name": "python3"
  },
  "language_info": {
   "codemirror_mode": {
    "name": "ipython",
    "version": 3
   },
   "file_extension": ".py",
   "mimetype": "text/x-python",
   "name": "python",
   "nbconvert_exporter": "python",
   "pygments_lexer": "ipython3",
   "version": "3.12.2"
  }
 },
 "nbformat": 4,
 "nbformat_minor": 2
}
