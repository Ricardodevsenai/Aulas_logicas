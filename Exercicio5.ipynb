{
 "cells": [
  {
   "cell_type": "markdown",
   "metadata": {},
   "source": [
    "Exercicio 1"
   ]
  },
  {
   "cell_type": "code",
   "execution_count": 10,
   "metadata": {},
   "outputs": [
    {
     "name": "stdout",
     "output_type": "stream",
     "text": [
      "2\n",
      "4\n",
      "6\n",
      "8\n",
      "10\n",
      "12\n",
      "14\n",
      "16\n",
      "18\n",
      "20\n"
     ]
    }
   ],
   "source": [
    "\n",
    "x = 0\n",
    "while x <= 18:\n",
    "    x = x + 2\n",
    "    print(x)"
   ]
  },
  {
   "cell_type": "markdown",
   "metadata": {},
   "source": [
    "Exercicio 2"
   ]
  },
  {
   "cell_type": "code",
   "execution_count": 12,
   "metadata": {},
   "outputs": [
    {
     "name": "stdout",
     "output_type": "stream",
     "text": [
      "59\n",
      "37\n",
      "51\n",
      "13\n",
      "48\n",
      "33\n"
     ]
    }
   ],
   "source": [
    "import random\n",
    "n = 1\n",
    "while n <= 6 :\n",
    "    n = n +1\n",
    "    nmr = random.randint (1, 60)\n",
    "    print(nmr)"
   ]
  },
  {
   "cell_type": "markdown",
   "metadata": {},
   "source": [
    "Atividade 3 - não sei se ta certo"
   ]
  },
  {
   "cell_type": "code",
   "execution_count": 21,
   "metadata": {},
   "outputs": [
    {
     "name": "stdout",
     "output_type": "stream",
     "text": [
      " a soma é 15 são 1 impares e 0 pares\n",
      " a soma é 31 são 1 impares e 1 pares\n",
      " a soma é 41 são 1 impares e 2 pares\n",
      " a soma é 51 são 1 impares e 3 pares\n",
      " a soma é 61 são 1 impares e 4 pares\n",
      " a soma é 71 são 1 impares e 5 pares\n",
      " a soma é 81 são 1 impares e 6 pares\n"
     ]
    }
   ],
   "source": [
    "qtpar = 0\n",
    "qtimpar = 0\n",
    "soma = 0\n",
    "while True :\n",
    "    nr = int(input('digite o valor. digite 0 para sair'))\n",
    "    if nr == 0 :\n",
    "      break\n",
    "    if nr % 2 == 0 :\n",
    "       qtpar += 1\n",
    "    if nr % 2 == 1 :\n",
    "       qtimpar += 1\n",
    "    soma += nr\n",
    "    print(f' a soma é {soma} são {qtimpar} impares e {qtpar} pares')"
   ]
  },
  {
   "cell_type": "markdown",
   "metadata": {},
   "source": [
    "Atividade 4"
   ]
  },
  {
   "cell_type": "code",
   "execution_count": 7,
   "metadata": {},
   "outputs": [
    {
     "data": {
      "text/plain": [
       "5"
      ]
     },
     "execution_count": 7,
     "metadata": {},
     "output_type": "execute_result"
    }
   ],
   "source": [
    "while True :\n",
    "    n1 = int(input('Digite um valor inteiro'))\n",
    "    n2 = int(input('Digite o segundo valor inteiro'))\n",
    "    n3 = int(input('Digite o terceiro valor inteiro'))\n",
    "    n4 = int(input('Digite o quarto valor inteiro'))\n",
    "    n5 = int(input('Digite o quinto valor inteiro'))\n",
    "    if n1 or n2 or n3 or n4 or n5 == 00 :\n",
    "        break\n",
    "    "
   ]
  },
  {
   "cell_type": "markdown",
   "metadata": {},
   "source": [
    "atividade 5"
   ]
  },
  {
   "cell_type": "code",
   "execution_count": 5,
   "metadata": {},
   "outputs": [],
   "source": [
    "nmr = float(input('digite um numero a mais que pensou'))\n",
    "resul = 0\n",
    "while   :\n",
    "    resul = nmr * (nmr - 1)\n",
    "    print(resul)\n",
    "\n"
   ]
  }
 ],
 "metadata": {
  "kernelspec": {
   "display_name": "Python 3",
   "language": "python",
   "name": "python3"
  },
  "language_info": {
   "codemirror_mode": {
    "name": "ipython",
    "version": 3
   },
   "file_extension": ".py",
   "mimetype": "text/x-python",
   "name": "python",
   "nbconvert_exporter": "python",
   "pygments_lexer": "ipython3",
   "version": "3.12.2"
  }
 },
 "nbformat": 4,
 "nbformat_minor": 2
}
