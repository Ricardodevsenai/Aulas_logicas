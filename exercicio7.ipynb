{
 "cells": [
  {
   "cell_type": "code",
   "execution_count": 35,
   "metadata": {},
   "outputs": [
    {
     "name": "stdout",
     "output_type": "stream",
     "text": [
      "farofeiros\n",
      "astro boy\n",
      "boku no hero\n",
      "divergente\n",
      "infinito\n",
      "guerra mundial z\n",
      "boku no hero\n",
      "guerra mundial z indiana jones one piece\n",
      "boku no hero\n",
      "demon slayer\n",
      "infinito\n",
      "akamega kill\n",
      "['guerra mundial z', 'indiana jones', 'one piece', 'astro boy', 'akamega kill', 'infinito', 'demon slayer', 'boku no hero']\n",
      "['boku no hero', 'demon slayer', 'infinito', 'akamega kill', 'astro boy', 'one piece', 'indiana jones', 'guerra mundial z']\n"
     ]
    }
   ],
   "source": [
    "filmes = ['farofeiros', 'guerra mundial z', 'indiana jones', 'one piece', 'astro boy', 'akamega kill', 'demon slayer']\n",
    "\n",
    "print(filmes[0])\n",
    "print(filmes[4])\n",
    "filmes.append('boku no hero')\n",
    "print(filmes[7])\n",
    "filmes.append('divergente')\n",
    "print(filmes[8])\n",
    "filmes.insert(6,'infinito')\n",
    "print(filmes [6])\n",
    "del filmes[0]\n",
    "print(filmes[0])\n",
    "del filmes [8]\n",
    "print(filmes[7])\n",
    "print(filmes[0],filmes [1], filmes [2])\n",
    "print(filmes [7])\n",
    "print(filmes [6])\n",
    "print(filmes [5])\n",
    "print(filmes [4])\n",
    "print(filmes)\n",
    "filmes.reverse()\n",
    "print(filmes)"
   ]
  },
  {
   "cell_type": "code",
   "execution_count": 2,
   "metadata": {},
   "outputs": [
    {
     "name": "stdout",
     "output_type": "stream",
     "text": [
      "Campeão:  Atlético-MG\n",
      "Classificados para a Libertadores:\n",
      "corinthians\n",
      "Atlético-MG\n",
      "Flamengo\n",
      "Grêmio\n",
      "Rebaixados para a Série B:\n",
      "Vitória\n",
      "Juventude\n",
      "Criciúma\n",
      "Atlético-GO\n"
     ]
    }
   ],
   "source": [
    "times_brasileirao = ['corinthians','Atlético-MG','Flamengo','Grêmio','Botafogo','Red Bull Bragantino','Fluminense','Athletico-PR','Internacional','Fortaleza','São Paulo','Cuiabá','palmeiras','Cruzeiro','Vasco','Bahia','Vitória','Juventude','Criciúma','Atlético-GO']\n",
    "print(\"Campeão: \", times_brasileirao[1])\n",
    "print(\"Classificados para a Libertadores:\")\n",
    "for time in times_brasileirao[:4]:\n",
    "    print(time)\n",
    "print(\"Rebaixados para a Série B:\")\n",
    "for time in times_brasileirao[-4:]:\n",
    "    print(time)"
   ]
  }
 ],
 "metadata": {
  "kernelspec": {
   "display_name": "Python 3",
   "language": "python",
   "name": "python3"
  },
  "language_info": {
   "codemirror_mode": {
    "name": "ipython",
    "version": 3
   },
   "file_extension": ".py",
   "mimetype": "text/x-python",
   "name": "python",
   "nbconvert_exporter": "python",
   "pygments_lexer": "ipython3",
   "version": "3.12.2"
  }
 },
 "nbformat": 4,
 "nbformat_minor": 2
}
