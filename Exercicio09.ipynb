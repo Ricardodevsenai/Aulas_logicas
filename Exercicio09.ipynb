{
 "cells": [
  {
   "cell_type": "markdown",
   "metadata": {},
   "source": [
    "atividade 1"
   ]
  },
  {
   "cell_type": "code",
   "execution_count": 2,
   "metadata": {},
   "outputs": [
    {
     "name": "stdout",
     "output_type": "stream",
     "text": [
      "Boas vindas \n",
      "**************************************************\n",
      "Boas vindas \n",
      "**************************************************\n",
      "Boas vindas \n",
      "**************************************************\n",
      "Boas vindas \n",
      "**************************************************\n"
     ]
    }
   ],
   "source": [
    "def boa () :\n",
    "    print('Boas vindas ')\n",
    "    print('*'*50)\n",
    "boa()\n",
    "boa()\n",
    "boa()\n",
    "boa()"
   ]
  },
  {
   "cell_type": "markdown",
   "metadata": {},
   "source": [
    "atividade 2"
   ]
  },
  {
   "cell_type": "code",
   "execution_count": 5,
   "metadata": {},
   "outputs": [
    {
     "name": "stdout",
     "output_type": "stream",
     "text": [
      "amarelo\n",
      "azul\n",
      "vermelho\n"
     ]
    }
   ],
   "source": [
    "def core ():\n",
    "    cor = ['amarelo', 'azul', 'vermelho']\n",
    "    print (cor[0])\n",
    "    print (cor[1])\n",
    "    print (cor[2])\n",
    "core()"
   ]
  },
  {
   "cell_type": "markdown",
   "metadata": {},
   "source": [
    "atividade 3"
   ]
  },
  {
   "cell_type": "code",
   "execution_count": 7,
   "metadata": {},
   "outputs": [
    {
     "name": "stdout",
     "output_type": "stream",
     "text": [
      "1 x 0 = 0\n",
      "1 x 1 = 1\n",
      "1 x 2 = 2\n",
      "1 x 3 = 3\n",
      "1 x 4 = 4\n",
      "1 x 5 = 5\n",
      "1 x 6 = 6\n",
      "1 x 7 = 7\n",
      "1 x 8 = 8\n",
      "1 x 9 = 9\n",
      "1 x 10 = 10\n",
      "**************************************************\n",
      "3 x 0 = 0\n",
      "3 x 1 = 3\n",
      "3 x 2 = 6\n",
      "3 x 3 = 9\n",
      "3 x 4 = 12\n",
      "3 x 5 = 15\n",
      "3 x 6 = 18\n",
      "3 x 7 = 21\n",
      "3 x 8 = 24\n",
      "3 x 9 = 27\n",
      "3 x 10 = 30\n",
      "**************************************************\n",
      "10 x 0 = 0\n",
      "10 x 1 = 10\n",
      "10 x 2 = 20\n",
      "10 x 3 = 30\n",
      "10 x 4 = 40\n",
      "10 x 5 = 50\n",
      "10 x 6 = 60\n",
      "10 x 7 = 70\n",
      "10 x 8 = 80\n",
      "10 x 9 = 90\n",
      "10 x 10 = 100\n"
     ]
    }
   ],
   "source": [
    "def num (n1) :\n",
    "    for x in range(11):\n",
    "        print(f'{n1} x {x} = {n1*x}')\n",
    "n1 = int(input('digite um numero inteiro'))\n",
    "num(n1)\n",
    "print('*'*50)\n",
    "n1 = int(input('digite um numero inteiro'))\n",
    "num(n1)\n",
    "print('*'*50)\n",
    "n1 = int(input('digite um numero inteiro'))\n",
    "num(n1)"
   ]
  },
  {
   "cell_type": "markdown",
   "metadata": {},
   "source": [
    "atividade 4"
   ]
  },
  {
   "cell_type": "code",
   "execution_count": 14,
   "metadata": {},
   "outputs": [
    {
     "name": "stdout",
     "output_type": "stream",
     "text": [
      "a elevação do numero 1.0 é 1.0 \n"
     ]
    }
   ],
   "source": [
    "def numer(n1,n2) :\n",
    "    op = input('digite a operação')\n",
    "    if op == '+' :\n",
    "     n1 = float(input('digite 1 numero'))\n",
    "     n2 = float(input('digite o 2 numero'))\n",
    "     print(f'a soma do numero {n1} + o numero {n2} é {n1+n2}')\n",
    "    elif op == '-' :\n",
    "     n1 = float(input('digite 1 numero'))\n",
    "     n2 = float(input('digite o 2 numero'))\n",
    "     print(f'a subtração do numero {n1} - o numero {n2} é {n1-n2}')\n",
    "    elif op == '*' :\n",
    "     n1 = float(input('digite 1 numero'))\n",
    "     n2 = float(input('digite o 2 numero'))\n",
    "     print(f'a multiplicação do numero {n1} * o numero {n2} é {n1*n2}')\n",
    "    elif op == '/' :\n",
    "     n1 = float(input('digite um numero'))\n",
    "     n2 = float(input('digite o segundo numero'))\n",
    "     print(f'a divisão do numero {n1} / o numero {n2} é {n1/n2}')\n",
    "    elif op =='**' :\n",
    "      n1 = float(input('digite 1 numero'))\n",
    "      n2 = float(input('digite o valor que ira elevar o  numero'))\n",
    "      print(f'a elevação do numero {n1} é {n1**n2} ')\n",
    "n1 = 0\n",
    "n2 = 0\n",
    "numer(n1,n2)"
   ]
  },
  {
   "cell_type": "markdown",
   "metadata": {},
   "source": [
    "Atividade 5"
   ]
  },
  {
   "cell_type": "code",
   "execution_count": 63,
   "metadata": {},
   "outputs": [
    {
     "data": {
      "text/plain": [
       "'X5mE1r+O'"
      ]
     },
     "execution_count": 63,
     "metadata": {},
     "output_type": "execute_result"
    }
   ],
   "source": [
    "import random\n",
    "def senhaaleatoria(tamanho) :\n",
    "    lista ='QWERTYUIOPALSKDJFHGMZNXBCVqpwoeirutyalskdjfhgçzmxncbv12345678910-_=+'\n",
    "    senha = ''\n",
    "    for x in range(tamanho) :\n",
    "        senha = senha + random.choice(lista)# o choice sorteia uma coisa dentro da lista\n",
    "    return(senha)\n",
    "senhaaleatoria(8)"
   ]
  }
 ],
 "metadata": {
  "kernelspec": {
   "display_name": "Python 3",
   "language": "python",
   "name": "python3"
  },
  "language_info": {
   "codemirror_mode": {
    "name": "ipython",
    "version": 3
   },
   "file_extension": ".py",
   "mimetype": "text/x-python",
   "name": "python",
   "nbconvert_exporter": "python",
   "pygments_lexer": "ipython3",
   "version": "3.12.2"
  }
 },
 "nbformat": 4,
 "nbformat_minor": 2
}
