{
 "cells": [
  {
   "cell_type": "code",
   "execution_count": 5,
   "metadata": {},
   "outputs": [
    {
     "name": "stdout",
     "output_type": "stream",
     "text": [
      "1\n",
      "2\n",
      "3\n",
      "4\n",
      "5\n",
      "6\n",
      "7\n",
      "8\n",
      "9\n",
      "10\n"
     ]
    }
   ],
   "source": [
    "lista = [1,2,3,4,5,6,7,8,9,10]\n",
    "for nr in lista :\n",
    "    print(nr)\n",
    "\n"
   ]
  },
  {
   "cell_type": "code",
   "execution_count": 57,
   "metadata": {},
   "outputs": [
    {
     "name": "stdout",
     "output_type": "stream",
     "text": [
      "borba\n",
      "borba\n",
      "borba\n"
     ]
    }
   ],
   "source": [
    "for amg in range (3):\n",
    " amg1 = input('digite o nome do amigo')\n",
    " print(amg1)\n",
    "\n"
   ]
  },
  {
   "cell_type": "code",
   "execution_count": 5,
   "metadata": {},
   "outputs": [
    {
     "name": "stdout",
     "output_type": "stream",
     "text": [
      "JANEIRO\n",
      "JUNHO\n",
      "JULHO\n"
     ]
    }
   ],
   "source": [
    "\n",
    "meses = ['JANEIRO', 'FEVEREIRO', 'MARÇO', 'ABRIL', 'MAIO', 'JUNHO', 'JULHO', 'AGOSTO', 'SETEMBRO', 'OUTUBRO', 'NOVEMBRO', 'DEZEMBRO']\n",
    "for mes in meses:\n",
    "    if mes[0] == 'J':\n",
    "     print(mes)\n",
    "\n"
   ]
  },
  {
   "cell_type": "code",
   "execution_count": 40,
   "metadata": {},
   "outputs": [
    {
     "name": "stdout",
     "output_type": "stream",
     "text": [
      "GATO\n",
      "CACHORRO\n",
      "PASSARO\n",
      "PEIXE\n",
      "g\n",
      "a\n",
      "t\n",
      "o\n"
     ]
    }
   ],
   "source": [
    "lista = ['gato', 'cachorro','passaro','peixe']\n",
    "for list in lista :\n",
    " print(list.upper())\n",
    "\n",
    "for x in 'gato':\n",
    " print(x)"
   ]
  },
  {
   "cell_type": "code",
   "execution_count": 33,
   "metadata": {},
   "outputs": [
    {
     "name": "stdout",
     "output_type": "stream",
     "text": [
      "o numero é 79 e seu dobro é 158\n",
      "o numero é 93 e seu dobro é 186\n",
      "o numero é 63 e seu dobro é 126\n",
      "o numero é 54 e seu dobro é 108\n",
      "o numero é 68 e seu dobro é 136\n"
     ]
    }
   ],
   "source": [
    "import random\n",
    "for x in range (5):\n",
    " nrsorteio = random.randint(1,100)\n",
    " print (f'o numero é {nrsorteio} e seu dobro é {nrsorteio*2}')"
   ]
  },
  {
   "cell_type": "code",
   "execution_count": 34,
   "metadata": {},
   "outputs": [
    {
     "name": "stdout",
     "output_type": "stream",
     "text": [
      "2 54\n"
     ]
    }
   ],
   "source": [
    "lista = [10,2,43,54,25]\n",
    "menor = 1000000000000\n",
    "maior = 0\n",
    "for listas in lista :\n",
    "    if listas > maior:\n",
    "        maior = listas\n",
    "    if listas < menor :\n",
    "        menor = listas\n",
    "print(menor, maior)"
   ]
  },
  {
   "cell_type": "code",
   "execution_count": 39,
   "metadata": {},
   "outputs": [
    {
     "name": "stdout",
     "output_type": "stream",
     "text": [
      "i\n",
      "a\n",
      "o\n"
     ]
    }
   ],
   "source": [
    "vogais = ['a', 'e', 'i', 'o', 'u']\n",
    "pala = (input('digite uma palavra'))\n",
    "for letra in pala:\n",
    " if letra in vogais:\n",
    "  print(letra)"
   ]
  },
  {
   "cell_type": "code",
   "execution_count": 67,
   "metadata": {},
   "outputs": [
    {
     "name": "stdout",
     "output_type": "stream",
     "text": [
      "gol\n",
      "corsa\n",
      "palio\n",
      "monza\n",
      "fusca\n"
     ]
    }
   ],
   "source": [
    "lista= 'gol', 'corsa', 'palio', 'monza', 'fusca'\n",
    "for listas in lista:\n",
    "    print(listas)"
   ]
  }
 ],
 "metadata": {
  "kernelspec": {
   "display_name": "Python 3",
   "language": "python",
   "name": "python3"
  },
  "language_info": {
   "codemirror_mode": {
    "name": "ipython",
    "version": 3
   },
   "file_extension": ".py",
   "mimetype": "text/x-python",
   "name": "python",
   "nbconvert_exporter": "python",
   "pygments_lexer": "ipython3",
   "version": "3.12.2"
  }
 },
 "nbformat": 4,
 "nbformat_minor": 2
}
