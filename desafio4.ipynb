{
 "cells": [
  {
   "cell_type": "code",
   "execution_count": 6,
   "metadata": {},
   "outputs": [
    {
     "name": "stdout",
     "output_type": "stream",
     "text": [
      "2000.0\n",
      "1820.0\n"
     ]
    }
   ],
   "source": [
    "salario = float(input('digite seu salario'))\n",
    "if salario <= 2259.20 :\n",
    "    soma = salario * 0 / 100\n",
    "    conta =salario - soma\n",
    "    print(conta)\n",
    "elif salario >2259.20 and salario <= 2826.65 :\n",
    "    soma1 = salario * 7.5 / 100\n",
    "    conta1 = salario - soma1\n",
    "    print(conta1)\n",
    "elif salario >2826.65 and salario <= 3751.05 :\n",
    "    soma2 = salario * 15 / 100\n",
    "    conta2 = salario - soma2\n",
    "    print(conta2)\n",
    "elif salario >3751.05 and salario <= 4664.68 :\n",
    "    soma3 = salario * 22.5 / 100\n",
    "    conta3 = salario - soma3\n",
    "    print(conta3)\n",
    "elif salario > 4664.68 :\n",
    "    soma4 = salario * 27.5 / 100\n",
    "    conta4 = salario - soma4\n",
    "    print(conta4)\n",
    "\n",
    "salario2 = float(input('digite seu salario novamente'))\n",
    "if salario2 <= 1412 :\n",
    "     novo = salario2 *7.5 / 100\n",
    "     nvsalario = salario2 - novo\n",
    "     print(nvsalario)\n",
    "elif salario2 > 1412 and salario2 <= 2666.68 :\n",
    "    novo1= salario2 * 9 / 100\n",
    "    nvsalario1 = salario2 - novo1\n",
    "    print(nvsalario1)\n",
    "elif salario2 > 2666.68 and salario2 <= 4000.03 :\n",
    "     novo2 = salario * 12 / 100\n",
    "     nvsalario2 = salario - novo2\n",
    "     print(nvsalario2)\n",
    "elif salario2 > 4000.03 and salario2 <= 7786.02 :\n",
    "    novo3 = salario2 * 14 / 100\n",
    "    nvsalario3 = salario2 - novo3\n",
    "    print(nvsalario3)\n",
    "elif salario2 > 7786.02 :\n",
    "    novo4 = 908.85\n",
    "    nvsalario4 = salario2 - novo4\n",
    "    print(nvsalario4)\n",
    "\n",
    "\n"
   ]
  }
 ],
 "metadata": {
  "kernelspec": {
   "display_name": "Python 3",
   "language": "python",
   "name": "python3"
  },
  "language_info": {
   "codemirror_mode": {
    "name": "ipython",
    "version": 3
   },
   "file_extension": ".py",
   "mimetype": "text/x-python",
   "name": "python",
   "nbconvert_exporter": "python",
   "pygments_lexer": "ipython3",
   "version": "3.12.2"
  }
 },
 "nbformat": 4,
 "nbformat_minor": 2
}
