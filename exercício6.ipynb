{
 "cells": [
  {
   "cell_type": "markdown",
   "metadata": {},
   "source": [
    "atividade 1"
   ]
  },
  {
   "cell_type": "code",
   "execution_count": 40,
   "metadata": {},
   "outputs": [
    {
     "name": "stdout",
     "output_type": "stream",
     "text": [
      "1\n",
      "3\n",
      "5\n",
      "7\n",
      "9\n",
      "11\n",
      "13\n",
      "15\n",
      "17\n",
      "19\n",
      "21\n",
      "23\n",
      "25\n",
      "27\n",
      "29\n",
      "31\n",
      "33\n",
      "35\n",
      "37\n",
      "39\n"
     ]
    }
   ],
   "source": [
    "for x in range(1,40, 2) :\n",
    "    print(x)"
   ]
  },
  {
   "cell_type": "markdown",
   "metadata": {},
   "source": [
    "exercicio 2"
   ]
  },
  {
   "cell_type": "code",
   "execution_count": 46,
   "metadata": {},
   "outputs": [
    {
     "name": "stdout",
     "output_type": "stream",
     "text": [
      "29\n",
      "49\n",
      "6\n",
      "19\n",
      "38\n",
      "58\n"
     ]
    }
   ],
   "source": [
    "import random\n",
    "for x in range(6):\n",
    "    x = random.randint(1,60)\n",
    "    print(x)"
   ]
  },
  {
   "cell_type": "markdown",
   "metadata": {},
   "source": [
    "3"
   ]
  },
  {
   "cell_type": "code",
   "execution_count": 52,
   "metadata": {},
   "outputs": [
    {
     "name": "stdout",
     "output_type": "stream",
     "text": [
      "5 0 5\n"
     ]
    }
   ],
   "source": [
    "soma = 0\n",
    "par = 0\n",
    "impar = 0\n",
    "for x in range(5):\n",
    "    nr= int(input('digite 1 numero'))\n",
    "    soma = soma + nr\n",
    "    if nr%2 == 0:\n",
    "      par = par +1 \n",
    "    else :\n",
    "       impar = impar + 1\n",
    "print ( soma, par , impar)"
   ]
  },
  {
   "cell_type": "markdown",
   "metadata": {},
   "source": [
    "4"
   ]
  },
  {
   "cell_type": "code",
   "execution_count": 58,
   "metadata": {},
   "outputs": [
    {
     "name": "stdout",
     "output_type": "stream",
     "text": [
      "1\n",
      "3\n",
      "5\n",
      "7\n"
     ]
    }
   ],
   "source": [
    "inicio = int(input('digite o valor inicial'))\n",
    "fim = int(input('digite o valor final'))\n",
    "passo = int(input('digite o passo'))\n",
    "for x in range(inicio, fim , passo):\n",
    "    print (x)"
   ]
  },
  {
   "cell_type": "markdown",
   "metadata": {},
   "source": [
    "5"
   ]
  },
  {
   "cell_type": "code",
   "execution_count": 64,
   "metadata": {},
   "outputs": [
    {
     "name": "stderr",
     "output_type": "stream",
     "text": [
      "<>:16: SyntaxWarning: 'str' object is not callable; perhaps you missed a comma?\n",
      "<>:16: SyntaxWarning: 'str' object is not callable; perhaps you missed a comma?\n"
     ]
    },
    {
     "name": "stdout",
     "output_type": "stream",
     "text": [
      "media da mulher 36.0\n"
     ]
    },
    {
     "ename": "ZeroDivisionError",
     "evalue": "division by zero",
     "output_type": "error",
     "traceback": [
      "\u001b[1;31m---------------------------------------------------------------------------\u001b[0m",
      "\u001b[1;31mZeroDivisionError\u001b[0m                         Traceback (most recent call last)",
      "Cell \u001b[1;32mIn[64], line 15\u001b[0m\n\u001b[0;32m     13\u001b[0m         qthom \u001b[38;5;241m=\u001b[39m qthom \u001b[38;5;241m+\u001b[39m \u001b[38;5;241m1\u001b[39m\n\u001b[0;32m     14\u001b[0m \u001b[38;5;28mprint\u001b[39m(\u001b[38;5;124mf\u001b[39m\u001b[38;5;124m'\u001b[39m\u001b[38;5;124mmedia da mulher \u001b[39m\u001b[38;5;132;01m{\u001b[39;00msomamulh\u001b[38;5;250m \u001b[39m\u001b[38;5;241m/\u001b[39m\u001b[38;5;250m \u001b[39mqtmulh\u001b[38;5;132;01m}\u001b[39;00m\u001b[38;5;124m'\u001b[39m)\n\u001b[1;32m---> 15\u001b[0m \u001b[38;5;28mprint\u001b[39m(\u001b[38;5;124mf\u001b[39m\u001b[38;5;124m'\u001b[39m\u001b[38;5;124mmedia do homen \u001b[39m\u001b[38;5;132;01m{\u001b[39;00m\u001b[43msomahom\u001b[49m\u001b[38;5;250;43m \u001b[39;49m\u001b[38;5;241;43m/\u001b[39;49m\u001b[38;5;250;43m \u001b[39;49m\u001b[43mqthom\u001b[49m\u001b[38;5;132;01m}\u001b[39;00m\u001b[38;5;124m'\u001b[39m)\n\u001b[0;32m     16\u001b[0m \u001b[38;5;28mprint\u001b[39m(\u001b[38;5;124mf\u001b[39m\u001b[38;5;124m'\u001b[39m\u001b[38;5;124mmedia do homen\u001b[39m\u001b[38;5;124m'\u001b[39m ({somamulh \u001b[38;5;241m+\u001b[39m somahom}) \u001b[38;5;241m/\u001b[39m ({qtmulh \u001b[38;5;241m+\u001b[39m qthom}))\n",
      "\u001b[1;31mZeroDivisionError\u001b[0m: division by zero"
     ]
    }
   ],
   "source": [
    "qthom = 0\n",
    "qtmulh = 0\n",
    "somahom = 0\n",
    "somamulh = 0\n",
    "for x in range (5):\n",
    "    idade = int(input('digite a idade'))\n",
    "    sexo = input('digite o sexo  F OU M')\n",
    "    if sexo == 'F':\n",
    "        somamulh = somamulh + idade\n",
    "        qtmulh = qtmulh + 1\n",
    "    else:\n",
    "        somahom = somahom + idade\n",
    "        qthom = qthom + 1\n",
    "print(f'media da mulher {somamulh / qtmulh}')\n",
    "print(f'media do homen {somahom / qthom}')\n",
    "print(f'media do homen' ({somamulh + somahom}) / ({qtmulh + qthom}))"
   ]
  },
  {
   "cell_type": "markdown",
   "metadata": {},
   "source": [
    "5b"
   ]
  },
  {
   "cell_type": "code",
   "execution_count": 20,
   "metadata": {},
   "outputs": [
    {
     "name": "stdout",
     "output_type": "stream",
     "text": [
      "7\n",
      "14\n",
      "21\n",
      "28\n",
      "35\n",
      "42\n",
      "49\n",
      "56\n",
      "63\n",
      "70\n",
      "77\n",
      "84\n",
      "91\n",
      "98\n"
     ]
    }
   ],
   "source": [
    "for nr in range(1,100) :\n",
    "    if nr % 7 == 0 :\n",
    "        print(nr)"
   ]
  },
  {
   "cell_type": "code",
   "execution_count": 42,
   "metadata": {},
   "outputs": [
    {
     "name": "stdout",
     "output_type": "stream",
     "text": [
      "opa pia\n"
     ]
    }
   ],
   "source": [
    "palavra = input('digite uma palavra')\n",
    "novapalavra = ''\n",
    "\n",
    "for letra in palavra :\n",
    "    novapalavra = letra + novapalavra\n",
    "print(novapalavra)"
   ]
  }
 ],
 "metadata": {
  "kernelspec": {
   "display_name": "Python 3",
   "language": "python",
   "name": "python3"
  },
  "language_info": {
   "codemirror_mode": {
    "name": "ipython",
    "version": 3
   },
   "file_extension": ".py",
   "mimetype": "text/x-python",
   "name": "python",
   "nbconvert_exporter": "python",
   "pygments_lexer": "ipython3",
   "version": "3.12.2"
  }
 },
 "nbformat": 4,
 "nbformat_minor": 2
}
