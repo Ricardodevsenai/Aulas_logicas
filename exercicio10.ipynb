{
 "cells": [
  {
   "cell_type": "markdown",
   "metadata": {},
   "source": [
    "atividade 1"
   ]
  },
  {
   "cell_type": "code",
   "execution_count": 5,
   "metadata": {},
   "outputs": [
    {
     "name": "stdout",
     "output_type": "stream",
     "text": [
      "1\n",
      "2\n"
     ]
    }
   ],
   "source": [
    "\n",
    "x=0\n",
    "def num ():\n",
    "    global x\n",
    "    x = x +1\n",
    "    print(x)\n",
    "num ()\n",
    "num()"
   ]
  },
  {
   "cell_type": "markdown",
   "metadata": {},
   "source": [
    "atividade 2"
   ]
  },
  {
   "cell_type": "code",
   "execution_count": 27,
   "metadata": {},
   "outputs": [
    {
     "name": "stdout",
     "output_type": "stream",
     "text": [
      "a converção em dolar é de 0.97 e em euro é 0.92\n"
     ]
    }
   ],
   "source": [
    "dolar = 5.13\n",
    "euro = 5.45\n",
    "def conve () :\n",
    "    valor = float(input('digite a quantia para a conversão'))\n",
    "    global convercao\n",
    "    global convercao2\n",
    "    convercao = valor / dolar\n",
    "    convercao2 = valor / euro\n",
    "conve()\n",
    "print(f'a converção em dolar é de {convercao:.2f} e em euro é {convercao2:.2f}')"
   ]
  },
  {
   "cell_type": "markdown",
   "metadata": {},
   "source": [
    "atividade 3"
   ]
  },
  {
   "cell_type": "code",
   "execution_count": 1,
   "metadata": {},
   "outputs": [
    {
     "name": "stdout",
     "output_type": "stream",
     "text": [
      "['marcos']\n",
      "['marcos', 'douglas']\n",
      "['marcos']\n"
     ]
    }
   ],
   "source": [
    "lista_nomes = []\n",
    "\n",
    "def adicionar(nome) :\n",
    "    lista_nomes.append(nome)\n",
    "    print(lista_nomes)\n",
    "\n",
    "def remover (nome) :\n",
    "    lista_nomes.remove(nome)\n",
    "    print(lista_nomes)\n",
    "adicionar('marcos')\n",
    "adicionar('douglas')\n",
    "remover('douglas')"
   ]
  },
  {
   "cell_type": "markdown",
   "metadata": {},
   "source": [
    "atividade 4"
   ]
  },
  {
   "cell_type": "code",
   "execution_count": 8,
   "metadata": {},
   "outputs": [
    {
     "name": "stdout",
     "output_type": "stream",
     "text": [
      "Seu saldo atual é 9.5\n"
     ]
    }
   ],
   "source": [
    "saldo = 0\n",
    "def banco(saldo) :\n",
    "  while True :\n",
    "    clique = float(input('digite 1 para depositar, 2 para sacar 3 para consultar saldo ou 4 para encerrar'))\n",
    "    if clique == 1 :\n",
    "        deposito = float(input('digite o valor a ser depositado na sua conta'))\n",
    "        saldo = saldo + deposito\n",
    "    elif clique == 2 :\n",
    "        saque = float(input('digite o valor a ser sacado de sua conta'))\n",
    "        saldo = saldo - saque\n",
    "    elif clique == 3 :\n",
    "        print(f'Seu saldo atual é {saldo}')\n",
    "    else:\n",
    "        break\n",
    "banco(saldo)"
   ]
  },
  {
   "cell_type": "markdown",
   "metadata": {},
   "source": [
    "5"
   ]
  },
  {
   "cell_type": "code",
   "execution_count": 15,
   "metadata": {},
   "outputs": [
    {
     "name": "stdout",
     "output_type": "stream",
     "text": [
      "++++++++++++++++++++\n",
      "++++++++++++++++++++\n",
      "++++++++++++++++++++\n",
      "++++++++++++++++++++\n",
      "++++++++++++++++++++\n"
     ]
    }
   ],
   "source": [
    "carac = '+'\n",
    "def fig (l,a):\n",
    "    for i in range (a):\n",
    "        print(carac*l)\n",
    "fig(20,5)\n"
   ]
  }
 ],
 "metadata": {
  "kernelspec": {
   "display_name": "Python 3",
   "language": "python",
   "name": "python3"
  },
  "language_info": {
   "codemirror_mode": {
    "name": "ipython",
    "version": 3
   },
   "file_extension": ".py",
   "mimetype": "text/x-python",
   "name": "python",
   "nbconvert_exporter": "python",
   "pygments_lexer": "ipython3",
   "version": "3.12.2"
  }
 },
 "nbformat": 4,
 "nbformat_minor": 2
}
